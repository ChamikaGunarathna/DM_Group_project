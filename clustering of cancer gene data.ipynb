{
 "cells": [
  {
   "cell_type": "markdown",
   "metadata": {},
   "source": [
    "# Group 10"
   ]
  },
  {
   "cell_type": "markdown",
   "metadata": {},
   "source": [
    "Chamika Gunarathna"
   ]
  },
  {
   "cell_type": "code",
   "execution_count": 1,
   "metadata": {},
   "outputs": [
    {
     "name": "stdout",
     "output_type": "stream",
     "text": [
      "Add Individual contribution From this Cell, delete this print msg after initiation\n"
     ]
    }
   ],
   "source": [
    "print(\"Add Individual contribution From this Cell, delete this print msg after initiation\")"
   ]
  },
  {
   "cell_type": "markdown",
   "metadata": {},
   "source": [
    "Sasmeetha Perera"
   ]
  },
  {
   "cell_type": "code",
   "execution_count": 2,
   "metadata": {},
   "outputs": [
    {
     "name": "stdout",
     "output_type": "stream",
     "text": [
      "Add Individual contribution From this Cell, delete this print msg after initiation\n"
     ]
    }
   ],
   "source": [
    "print(\"Add Individual contribution From this Cell, delete this print msg after initiation\")"
   ]
  },
  {
   "cell_type": "markdown",
   "metadata": {},
   "source": [
    "Sanjitha Amarathunga"
   ]
  },
  {
   "cell_type": "code",
   "execution_count": 3,
   "metadata": {},
   "outputs": [
    {
     "name": "stdout",
     "output_type": "stream",
     "text": [
      "Add Individual contribution From this Cell, delete this print msg after initiation\n"
     ]
    }
   ],
   "source": [
    "print(\"Add Individual contribution From this Cell, delete this print msg after initiation\")"
   ]
  },
  {
   "cell_type": "markdown",
   "metadata": {},
   "source": [
    "Umesha Sewwandi"
   ]
  },
  {
   "cell_type": "code",
   "execution_count": 4,
   "metadata": {},
   "outputs": [
    {
     "name": "stdout",
     "output_type": "stream",
     "text": [
      "Add Individual contribution From this Cell, delete this print msg after initiation\n"
     ]
    }
   ],
   "source": [
    "print(\"Add Individual contribution From this Cell, delete this print msg after initiation\")"
   ]
  }
 ],
 "metadata": {
  "kernelspec": {
   "display_name": "prob_python",
   "language": "python",
   "name": "python3"
  },
  "language_info": {
   "codemirror_mode": {
    "name": "ipython",
    "version": 3
   },
   "file_extension": ".py",
   "mimetype": "text/x-python",
   "name": "python",
   "nbconvert_exporter": "python",
   "pygments_lexer": "ipython3",
   "version": "3.11.7"
  }
 },
 "nbformat": 4,
 "nbformat_minor": 2
}
