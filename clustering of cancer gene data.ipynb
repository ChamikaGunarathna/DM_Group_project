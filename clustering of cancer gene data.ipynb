{
 "cells": [
  {
   "cell_type": "markdown",
   "metadata": {},
   "source": [
    "# Group 10"
   ]
  },
  {
   "cell_type": "markdown",
   "metadata": {},
   "source": [
    "Chamika Gunarathna"
   ]
  },
  {
   "cell_type": "code",
   "execution_count": 1,
   "metadata": {},
   "outputs": [
    {
     "name": "stdout",
     "output_type": "stream",
     "text": [
      "Add Individual contribution From this Cell, delete this print msg after initiation\n"
     ]
    }
   ],
   "source": [
    "print(\"Add Individual contribution From this Cell, delete this print msg after initiation\")"
   ]
  },
  {
   "cell_type": "markdown",
   "metadata": {},
   "source": [
    "Sasmeetha Perera"
   ]
  },
  {
   "cell_type": "code",
   "execution_count": 3,
   "metadata": {},
   "outputs": [],
   "source": [
    "import pandas as pd\n",
    "\n",
    "df = pd.read_csv('data.csv')"
   ]
  },
  {
   "cell_type": "code",
   "execution_count": 4,
   "metadata": {},
   "outputs": [
    {
     "data": {
      "text/html": [
       "<div>\n",
       "<style scoped>\n",
       "    .dataframe tbody tr th:only-of-type {\n",
       "        vertical-align: middle;\n",
       "    }\n",
       "\n",
       "    .dataframe tbody tr th {\n",
       "        vertical-align: top;\n",
       "    }\n",
       "\n",
       "    .dataframe thead th {\n",
       "        text-align: right;\n",
       "    }\n",
       "</style>\n",
       "<table border=\"1\" class=\"dataframe\">\n",
       "  <thead>\n",
       "    <tr style=\"text-align: right;\">\n",
       "      <th></th>\n",
       "      <th>gene_1</th>\n",
       "      <th>gene_2</th>\n",
       "      <th>gene_3</th>\n",
       "      <th>gene_4</th>\n",
       "      <th>gene_6</th>\n",
       "      <th>gene_7</th>\n",
       "      <th>gene_10</th>\n",
       "      <th>gene_11</th>\n",
       "      <th>gene_12</th>\n",
       "      <th>gene_13</th>\n",
       "      <th>...</th>\n",
       "      <th>gene_41</th>\n",
       "      <th>gene_42</th>\n",
       "      <th>gene_43</th>\n",
       "      <th>gene_44</th>\n",
       "      <th>gene_45</th>\n",
       "      <th>gene_46</th>\n",
       "      <th>gene_47</th>\n",
       "      <th>gene_48</th>\n",
       "      <th>gene_49</th>\n",
       "      <th>Class</th>\n",
       "    </tr>\n",
       "  </thead>\n",
       "  <tbody>\n",
       "    <tr>\n",
       "      <th>0</th>\n",
       "      <td>2.325242</td>\n",
       "      <td>3.247092</td>\n",
       "      <td>8.174007</td>\n",
       "      <td>10.065053</td>\n",
       "      <td>7.487446</td>\n",
       "      <td>0.000000</td>\n",
       "      <td>0.0</td>\n",
       "      <td>0.000000</td>\n",
       "      <td>2.759582</td>\n",
       "      <td>0.0</td>\n",
       "      <td>...</td>\n",
       "      <td>0.0</td>\n",
       "      <td>0.000000</td>\n",
       "      <td>0.566572</td>\n",
       "      <td>2.759582</td>\n",
       "      <td>7.149066</td>\n",
       "      <td>9.382985</td>\n",
       "      <td>11.393793</td>\n",
       "      <td>11.642183</td>\n",
       "      <td>0.000000</td>\n",
       "      <td>1</td>\n",
       "    </tr>\n",
       "    <tr>\n",
       "      <th>1</th>\n",
       "      <td>3.446190</td>\n",
       "      <td>3.620962</td>\n",
       "      <td>7.171917</td>\n",
       "      <td>9.796559</td>\n",
       "      <td>8.175245</td>\n",
       "      <td>1.972509</td>\n",
       "      <td>0.0</td>\n",
       "      <td>1.972509</td>\n",
       "      <td>2.218967</td>\n",
       "      <td>0.0</td>\n",
       "      <td>...</td>\n",
       "      <td>0.0</td>\n",
       "      <td>0.000000</td>\n",
       "      <td>0.000000</td>\n",
       "      <td>0.000000</td>\n",
       "      <td>7.292138</td>\n",
       "      <td>10.073097</td>\n",
       "      <td>8.763408</td>\n",
       "      <td>11.354894</td>\n",
       "      <td>0.791689</td>\n",
       "      <td>1</td>\n",
       "    </tr>\n",
       "    <tr>\n",
       "      <th>2</th>\n",
       "      <td>2.554196</td>\n",
       "      <td>1.296134</td>\n",
       "      <td>8.770277</td>\n",
       "      <td>10.462901</td>\n",
       "      <td>8.013993</td>\n",
       "      <td>0.000000</td>\n",
       "      <td>0.0</td>\n",
       "      <td>0.736562</td>\n",
       "      <td>3.543446</td>\n",
       "      <td>0.0</td>\n",
       "      <td>...</td>\n",
       "      <td>0.0</td>\n",
       "      <td>0.414785</td>\n",
       "      <td>0.000000</td>\n",
       "      <td>6.290605</td>\n",
       "      <td>6.865300</td>\n",
       "      <td>9.681449</td>\n",
       "      <td>8.968667</td>\n",
       "      <td>11.782720</td>\n",
       "      <td>0.414785</td>\n",
       "      <td>1</td>\n",
       "    </tr>\n",
       "    <tr>\n",
       "      <th>3</th>\n",
       "      <td>3.667699</td>\n",
       "      <td>3.083179</td>\n",
       "      <td>7.997292</td>\n",
       "      <td>9.516886</td>\n",
       "      <td>7.925424</td>\n",
       "      <td>0.732486</td>\n",
       "      <td>0.0</td>\n",
       "      <td>0.000000</td>\n",
       "      <td>3.762157</td>\n",
       "      <td>0.0</td>\n",
       "      <td>...</td>\n",
       "      <td>0.0</td>\n",
       "      <td>0.000000</td>\n",
       "      <td>0.000000</td>\n",
       "      <td>0.000000</td>\n",
       "      <td>7.258726</td>\n",
       "      <td>10.100321</td>\n",
       "      <td>9.391772</td>\n",
       "      <td>11.355979</td>\n",
       "      <td>0.000000</td>\n",
       "      <td>1</td>\n",
       "    </tr>\n",
       "    <tr>\n",
       "      <th>4</th>\n",
       "      <td>3.821935</td>\n",
       "      <td>3.717605</td>\n",
       "      <td>7.593100</td>\n",
       "      <td>10.205964</td>\n",
       "      <td>7.613185</td>\n",
       "      <td>0.000000</td>\n",
       "      <td>0.0</td>\n",
       "      <td>0.000000</td>\n",
       "      <td>1.982364</td>\n",
       "      <td>0.0</td>\n",
       "      <td>...</td>\n",
       "      <td>0.0</td>\n",
       "      <td>0.000000</td>\n",
       "      <td>0.000000</td>\n",
       "      <td>2.261441</td>\n",
       "      <td>8.054105</td>\n",
       "      <td>10.471025</td>\n",
       "      <td>8.439449</td>\n",
       "      <td>11.730143</td>\n",
       "      <td>0.000000</td>\n",
       "      <td>1</td>\n",
       "    </tr>\n",
       "  </tbody>\n",
       "</table>\n",
       "<p>5 rows × 45 columns</p>\n",
       "</div>"
      ],
      "text/plain": [
       "     gene_1    gene_2    gene_3     gene_4    gene_6    gene_7  gene_10  \\\n",
       "0  2.325242  3.247092  8.174007  10.065053  7.487446  0.000000      0.0   \n",
       "1  3.446190  3.620962  7.171917   9.796559  8.175245  1.972509      0.0   \n",
       "2  2.554196  1.296134  8.770277  10.462901  8.013993  0.000000      0.0   \n",
       "3  3.667699  3.083179  7.997292   9.516886  7.925424  0.732486      0.0   \n",
       "4  3.821935  3.717605  7.593100  10.205964  7.613185  0.000000      0.0   \n",
       "\n",
       "    gene_11   gene_12  gene_13  ...  gene_41   gene_42   gene_43   gene_44  \\\n",
       "0  0.000000  2.759582      0.0  ...      0.0  0.000000  0.566572  2.759582   \n",
       "1  1.972509  2.218967      0.0  ...      0.0  0.000000  0.000000  0.000000   \n",
       "2  0.736562  3.543446      0.0  ...      0.0  0.414785  0.000000  6.290605   \n",
       "3  0.000000  3.762157      0.0  ...      0.0  0.000000  0.000000  0.000000   \n",
       "4  0.000000  1.982364      0.0  ...      0.0  0.000000  0.000000  2.261441   \n",
       "\n",
       "    gene_45    gene_46    gene_47    gene_48   gene_49  Class  \n",
       "0  7.149066   9.382985  11.393793  11.642183  0.000000      1  \n",
       "1  7.292138  10.073097   8.763408  11.354894  0.791689      1  \n",
       "2  6.865300   9.681449   8.968667  11.782720  0.414785      1  \n",
       "3  7.258726  10.100321   9.391772  11.355979  0.000000      1  \n",
       "4  8.054105  10.471025   8.439449  11.730143  0.000000      1  \n",
       "\n",
       "[5 rows x 45 columns]"
      ]
     },
     "execution_count": 4,
     "metadata": {},
     "output_type": "execute_result"
    }
   ],
   "source": [
    "df.head()"
   ]
  },
  {
   "cell_type": "code",
   "execution_count": 5,
   "metadata": {},
   "outputs": [
    {
     "name": "stdout",
     "output_type": "stream",
     "text": [
      "           gene_1      gene_2      gene_3      gene_4      gene_6      gene_7  \\\n",
      "count  390.000000  390.000000  390.000000  390.000000  390.000000  390.000000   \n",
      "mean     3.025948    3.192807    6.834967    9.785579    7.330231    0.482853   \n",
      "std      1.246116    1.049015    0.737371    0.497189    1.032067    0.513565   \n",
      "min      0.000000    0.000000    5.009284    8.435999    4.534466    0.000000   \n",
      "25%      2.341329    2.490260    6.347902    9.444469    6.615592    0.000000   \n",
      "50%      3.165172    3.216300    6.735995    9.761957    7.433040    0.442652   \n",
      "75%      3.857806    3.836318    7.161614   10.125391    7.995617    0.755208   \n",
      "max      6.237034    5.848044   10.129528   11.269372   10.219132    2.779008   \n",
      "\n",
      "          gene_10     gene_11     gene_12     gene_13  ...     gene_41  \\\n",
      "count  390.000000  390.000000  390.000000  390.000000  ...  390.000000   \n",
      "mean     0.663875    0.904628    2.654270    0.233360  ...    0.093538   \n",
      "std      1.096418    0.903066    0.693793    0.579556  ...    0.412052   \n",
      "min      0.000000    0.000000    0.518938    0.000000  ...    0.000000   \n",
      "25%      0.000000    0.368878    2.281696    0.000000  ...    0.000000   \n",
      "50%      0.361880    0.750814    2.683258    0.000000  ...    0.000000   \n",
      "75%      0.931726    1.309511    3.121772    0.205361  ...    0.000000   \n",
      "max      8.497022    7.884439    4.658223    5.547931  ...    3.909591   \n",
      "\n",
      "          gene_42     gene_43     gene_44     gene_45     gene_46     gene_47  \\\n",
      "count  390.000000  390.000000  390.000000  390.000000  390.000000  390.000000   \n",
      "mean     0.078761    0.165698    1.727271    6.681075   10.030704    9.841923   \n",
      "std      0.342696    0.370639    2.103633    1.631810    0.664225    0.766911   \n",
      "min      0.000000    0.000000    0.000000    2.140582    7.235344    6.989673   \n",
      "25%      0.000000    0.000000    0.000000    5.683948    9.645791    9.393202   \n",
      "50%      0.000000    0.000000    0.854385    6.623541   10.074549    9.872978   \n",
      "75%      0.000000    0.000000    2.806825    7.781173   10.447166   10.332087   \n",
      "max      4.599282    2.229742   10.119680   11.275316   12.101257   12.055238   \n",
      "\n",
      "          gene_48     gene_49      Class  \n",
      "count  390.000000  390.000000  390.00000  \n",
      "mean    11.360233    0.540262    3.00000  \n",
      "std      0.477266    0.583385    1.41603  \n",
      "min      8.724275    0.000000    1.00000  \n",
      "25%     11.086102    0.000000    2.00000  \n",
      "50%     11.387642    0.461318    3.00000  \n",
      "75%     11.701814    0.905428    4.00000  \n",
      "max     12.738084    2.614592    5.00000  \n",
      "\n",
      "[8 rows x 45 columns]\n"
     ]
    }
   ],
   "source": [
    "print(df.describe())"
   ]
  },
  {
   "cell_type": "markdown",
   "metadata": {},
   "source": [
    "1. K-Means Clustering"
   ]
  },
  {
   "cell_type": "code",
   "execution_count": 14,
   "metadata": {},
   "outputs": [],
   "source": [
    "#Importing libraries\n",
    "import pandas as pd\n",
    "import numpy as np\n",
    "import matplotlib.pyplot as plt\n",
    "import seaborn as sns\n",
    "import os\n",
    "from sklearn.cluster import KMeans\n",
    "from yellowbrick.cluster import KElbowVisualizer\n",
    "from sklearn import metrics"
   ]
  },
  {
   "cell_type": "code",
   "execution_count": 15,
   "metadata": {},
   "outputs": [
    {
     "data": {
      "image/png": "[encoded data removed]",
      "text/plain": [
       "<Figure size 800x550 with 1 Axes>"
      ]
     },
     "metadata": {},
     "output_type": "display_data"
    }
   ],
   "source": [
    "df1 = pd.read_csv('data.csv')\n",
    "\n",
    "#Defining attributes and categories\n",
    "attributes = df1.iloc[:, 0:44]\n",
    "categories = df1.iloc[:, -1]\n",
    "\n",
    "#Calculate within-cluster variance for different values of k\n",
    "wcss = []\n",
    "for i in range(1, 11):\n",
    "    kmeans = KMeans(n_clusters=i, init='k-means++', max_iter=300, n_init=10, random_state=0)\n",
    "    kmeans.fit(attributes)\n",
    "    wcss.append(kmeans.inertia_)\n",
    "\n",
    "plt.plot(range(1, 11), wcss, marker='o')  # Adjusted x-axis range\n",
    "plt.title('Elbow Method for K-means Clustering')\n",
    "plt.xlabel('Number of clusters')\n",
    "plt.ylabel('Within-cluster Variance')\n",
    "plt.xticks(np.arange(1, 11, 1))  # Show all integer ticks on x-axis\n",
    "plt.grid(True)\n",
    "plt.savefig('elbow_method_plot.png')\n",
    "plt.show()"
   ]
  },
  {
   "cell_type": "code",
   "execution_count": 16,
   "metadata": {},
   "outputs": [
    {
     "name": "stdout",
     "output_type": "stream",
     "text": [
      "       gene_1    gene_2    gene_3     gene_4    gene_6    gene_7   gene_10  \\\n",
      "0    2.325242  3.247092  8.174007  10.065053  7.487446  0.000000  0.000000   \n",
      "1    3.446190  3.620962  7.171917   9.796559  8.175245  1.972509  0.000000   \n",
      "2    2.554196  1.296134  8.770277  10.462901  8.013993  0.000000  0.000000   \n",
      "3    3.667699  3.083179  7.997292   9.516886  7.925424  0.732486  0.000000   \n",
      "4    3.821935  3.717605  7.593100  10.205964  7.613185  0.000000  0.000000   \n",
      "..        ...       ...       ...        ...       ...       ...       ...   \n",
      "385  0.000000  1.886433  7.052959   9.965753  7.085977  0.000000  1.008272   \n",
      "386  0.000000  4.154988  5.868203  10.381900  7.353509  0.000000  0.000000   \n",
      "387  1.256286  2.155684  6.898692   9.994891  7.849955  0.489235  0.489235   \n",
      "388  2.423255  3.190883  7.171527   9.156098  7.191207  1.287945  0.566182   \n",
      "389  1.455281  2.775535  5.009284   9.995894  7.806421  0.000000  0.000000   \n",
      "\n",
      "      gene_11   gene_12   gene_13  ...   gene_42   gene_43   gene_44  \\\n",
      "0    0.000000  2.759582  0.000000  ...  0.000000  0.566572  2.759582   \n",
      "1    1.972509  2.218967  0.000000  ...  0.000000  0.000000  0.000000   \n",
      "2    0.736562  3.543446  0.000000  ...  0.414785  0.000000  6.290605   \n",
      "3    0.000000  3.762157  0.000000  ...  0.000000  0.000000  0.000000   \n",
      "4    0.000000  1.982364  0.000000  ...  0.000000  0.000000  2.261441   \n",
      "..        ...       ...       ...  ...       ...       ...       ...   \n",
      "385  1.231801  3.474371  0.419215  ...  0.000000  0.743558  0.419215   \n",
      "386  1.167037  2.243852  0.000000  ...  0.698485  0.000000  1.803640   \n",
      "387  0.853916  2.975098  0.000000  ...  0.000000  0.000000  1.774966   \n",
      "388  1.287945  1.957395  0.000000  ...  0.000000  0.000000  1.766807   \n",
      "389  2.037312  2.849919  0.000000  ...  0.000000  0.000000  0.000000   \n",
      "\n",
      "       gene_45    gene_46    gene_47    gene_48   gene_49  Class  Cluster  \n",
      "0     7.149066   9.382985  11.393793  11.642183  0.000000      1        3  \n",
      "1     7.292138  10.073097   8.763408  11.354894  0.791689      1        3  \n",
      "2     6.865300   9.681449   8.968667  11.782720  0.414785      1        3  \n",
      "3     7.258726  10.100321   9.391772  11.355979  0.000000      1        3  \n",
      "4     8.054105  10.471025   8.439449  11.730143  0.000000      1        3  \n",
      "..         ...        ...        ...        ...       ...    ...      ...  \n",
      "385   5.993450  10.303747  10.196737  10.920301  0.000000      5        4  \n",
      "386   6.670826  10.622015   9.567768  10.973898  0.000000      5        4  \n",
      "387  11.031391  10.641411   9.913281  11.420702  0.000000      5        2  \n",
      "388   5.419937   9.940838  10.266002  10.171765  0.000000      5        2  \n",
      "389   2.455413  10.939513   8.447418  11.912414  1.250901      5        4  \n",
      "\n",
      "[390 rows x 46 columns]\n"
     ]
    }
   ],
   "source": [
    "import pandas as pd\n",
    "from sklearn.cluster import KMeans\n",
    "\n",
    "kmeans = KMeans(n_clusters=5, random_state=0)\n",
    "cluster_labels = kmeans.fit_predict(attributes) + 1\n",
    "\n",
    "df1['Cluster'] = cluster_labels\n",
    "\n",
    "print(df1)"
   ]
  },
  {
   "cell_type": "code",
   "execution_count": 17,
   "metadata": {},
   "outputs": [
    {
     "name": "stdout",
     "output_type": "stream",
     "text": [
      "Silhouette Coefficient: 0.16551778429701616\n",
      "Purity: 0.8615384615384616\n"
     ]
    }
   ],
   "source": [
    "from sklearn.metrics import silhouette_score\n",
    "from sklearn.metrics import accuracy_score\n",
    "import pandas as pd\n",
    "from sklearn.cluster import KMeans\n",
    "\n",
    "kmeans = KMeans(n_clusters=5, random_state=0)\n",
    "cluster_labels = kmeans.fit_predict(attributes) + 1\n",
    "\n",
    "df1['Cluster'] = cluster_labels\n",
    "# Evaluate clustering quality using Silhouette coefficient\n",
    "silhouette_avg = silhouette_score(attributes, cluster_labels)\n",
    "print(\"Silhouette Coefficient:\", silhouette_avg)\n",
    "\n",
    "# Calculate purity\n",
    "def calculate_purity(labels_true, labels_pred):\n",
    "    cluster_labels = pd.Series(labels_pred)\n",
    "    true_labels = pd.Series(labels_true)\n",
    "    matrix = pd.crosstab(cluster_labels, true_labels)\n",
    "    return np.sum(np.max(matrix, axis=0)) / np.sum(matrix.values)\n",
    "\n",
    "# True labels are in the last column of the dataframe\n",
    "true_labels = df1.iloc[:, -2].values\n",
    "purity = calculate_purity(true_labels, cluster_labels)\n",
    "print(\"Purity:\", purity)"
   ]
  },
  {
   "cell_type": "markdown",
   "metadata": {},
   "source": [
    "2. K-Medoids Clustering"
   ]
  },
  {
   "cell_type": "code",
   "execution_count": 20,
   "metadata": {},
   "outputs": [
    {
     "name": "stdout",
     "output_type": "stream",
     "text": [
      "Silhouette Score: 0.17392066991528263\n",
      "Davies–Bouldin index: 2.6331428791262725\n",
      "Purity: 0.7307692307692307\n"
     ]
    }
   ],
   "source": [
    "from sklearn_extra.cluster import KMedoids\n",
    "from sklearn.metrics import silhouette_score, davies_bouldin_score\n",
    "\n",
    "df2 = pd.read_csv('data.csv')\n",
    "\n",
    "X = df2.drop(columns=['Class'])\n",
    "\n",
    "n_clusters = 5\n",
    "\n",
    "kmedoids = KMedoids(n_clusters=n_clusters, random_state=0)\n",
    "\n",
    "kmedoids.fit(X)\n",
    "\n",
    "cluster_labels = kmedoids.labels_\n",
    "\n",
    "cluster_medoids = kmedoids.cluster_centers_\n",
    "\n",
    "silhouette_avg = silhouette_score(X, cluster_labels)\n",
    "print(\"Silhouette Score:\", silhouette_avg)\n",
    "\n",
    "db_index = davies_bouldin_score(X, cluster_labels)\n",
    "print(\"Davies–Bouldin index:\", db_index)\n",
    "\n",
    "true_labels = df2.iloc[:, -1].values\n",
    "purity = calculate_purity(true_labels, cluster_labels)\n",
    "print(\"Purity:\", purity)\n"
   ]
  },
  {
   "cell_type": "markdown",
   "metadata": {},
   "source": [
    "3. DBSCAN Clustering"
   ]
  },
  {
   "cell_type": "code",
   "execution_count": 21,
   "metadata": {},
   "outputs": [
    {
     "name": "stdout",
     "output_type": "stream",
     "text": [
      "Silhouette Score: 0.12086391058514394\n",
      "Adjusted Rand Index: 0.3621602472278582\n",
      "Purity: 0.7256410256410256\n"
     ]
    }
   ],
   "source": [
    "import pandas as pd\n",
    "from sklearn.cluster import DBSCAN\n",
    "from sklearn.metrics import silhouette_score, adjusted_rand_score\n",
    "\n",
    "df3 = pd.read_csv('data.csv')\n",
    "x = df3.drop(columns=['Class'])\n",
    "\n",
    "dbscan = DBSCAN(eps=6, min_samples=5)\n",
    "cluster_labels = dbscan.fit_predict(x)\n",
    "\n",
    "silhouette = silhouette_score(x, cluster_labels)\n",
    "print(\"Silhouette Score:\", silhouette)\n",
    "\n",
    "rand_index = adjusted_rand_score(df3.iloc[:,-1], cluster_labels)\n",
    "print(f\"Adjusted Rand Index: {rand_index}\")\n",
    "\n",
    "true_labels = df3.iloc[:, -1].values\n",
    "purity = calculate_purity(true_labels, cluster_labels)\n",
    "print(\"Purity:\", purity)"
   ]
  },
  {
   "cell_type": "markdown",
   "metadata": {},
   "source": [
    "4. Agglomerative Clustering"
   ]
  },
  {
   "cell_type": "code",
   "execution_count": 23,
   "metadata": {},
   "outputs": [
    {
     "name": "stdout",
     "output_type": "stream",
     "text": [
      "Silhouette Score: 0.22211101718731305\n",
      "Purity: 0.8307692307692308\n"
     ]
    }
   ],
   "source": [
    "from sklearn.cluster import AgglomerativeClustering\n",
    "\n",
    "df4 = pd.read_csv('data.csv')\n",
    "x = df4.drop(columns=['Class'])\n",
    "\n",
    "hierarchical = AgglomerativeClustering(n_clusters=5)\n",
    "\n",
    "hierarchical.fit(x)\n",
    "\n",
    "cluster_labels = hierarchical.labels_\n",
    "\n",
    "silhouette = silhouette_score(x, cluster_labels)\n",
    "print(\"Silhouette Score:\", silhouette)\n",
    "\n",
    "true_labels = df4.iloc[:, -1].values\n",
    "purity = calculate_purity(true_labels, cluster_labels)\n",
    "print(\"Purity:\", purity)\n"
   ]
  },
  {
   "cell_type": "code",
   "execution_count": null,
   "metadata": {},
   "outputs": [],
   "source": []
  },
  {
   "cell_type": "markdown",
   "metadata": {},
   "source": [
    "Sanjitha Amarathunga"
   ]
  },
  {
   "cell_type": "code",
   "execution_count": 3,
   "metadata": {},
   "outputs": [
    {
     "name": "stdout",
     "output_type": "stream",
     "text": [
      "Add Individual contribution From this Cell, delete this print msg after initiation\n"
     ]
    }
   ],
   "source": [
    "print(\"Add Individual contribution From this Cell, delete this print msg after initiation\")"
   ]
  },
  {
   "cell_type": "markdown",
   "metadata": {},
   "source": [
    "Umesha Sewwandi"
   ]
  },
  {
   "cell_type": "code",
   "execution_count": 4,
   "metadata": {},
   "outputs": [
    {
     "name": "stdout",
     "output_type": "stream",
     "text": [
      "Add Individual contribution From this Cell, delete this print msg after initiation\n"
     ]
    }
   ],
   "source": [
    "print(\"Add Individual contribution From this Cell, delete this print msg after initiation\")"
   ]
  }
 ],
 "metadata": {
  "kernelspec": {
   "display_name": "prob_python",
   "language": "python",
   "name": "python3"
  },
  "language_info": {
   "codemirror_mode": {
    "name": "ipython",
    "version": 3
   },
   "file_extension": ".py",
   "mimetype": "text/x-python",
   "name": "python",
   "nbconvert_exporter": "python",
   "pygments_lexer": "ipython3",
   "version": "3.11.1"
  }
 },
 "nbformat": 4,
 "nbformat_minor": 2
}
